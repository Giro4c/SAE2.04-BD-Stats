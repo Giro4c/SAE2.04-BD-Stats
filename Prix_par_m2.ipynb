{
 "cells": [
  {
   "cell_type": "code",
   "execution_count": 23,
   "id": "1737f7bf",
   "metadata": {},
   "outputs": [
    {
     "name": "stdout",
     "output_type": "stream",
     "text": [
      "\n",
      "stats pour prix moyen par ville :\n",
      "\n",
      "[5605. 4550. 3051. 3614. 5053. 3029. 2510.]\n",
      "['AIX-EN-PROVENCE' 'AUBAGNE' 'MANOSQUE' 'MARIGNANE' 'MARSEILLE'\n",
      " 'MONTPELIER' 'VITROLLES']\n",
      "\n"
     ]
    },
    {
     "data": {
      "image/png": "[encoded data removed]",
      "text/plain": [
       "<Figure size 432x288 with 1 Axes>"
      ]
     },
     "metadata": {
      "needs_background": "light"
     },
     "output_type": "display_data"
    },
    {
     "data": {
      "text/plain": [
       "<Figure size 720x576 with 0 Axes>"
      ]
     },
     "metadata": {},
     "output_type": "display_data"
    }
   ],
   "source": [
    "import pandas\n",
    "from numpy import *\n",
    "import matplotlib.pyplot as plt\n",
    "\n",
    "bienJoinEsp = pandas.read_csv('./BIEN_JOIN_ESP.csv')\n",
    "\n",
    "#print(bienJoinEsp)\n",
    "print()\n",
    "\n",
    "ville = bienJoinEsp[\"VILLE\"].to_numpy()\n",
    "villes, totBienVille = unique(ville, return_counts=True)\n",
    "\n",
    "listePrixMoySurfaceVille = []\n",
    "\n",
    "for i in range(len(villes)) :\n",
    "    stockVille = bienJoinEsp.loc[bienJoinEsp[\"VILLE\"] == villes[i]]\n",
    "    prix = stockVille[\"PRIX\"].to_numpy()\n",
    "    surface = stockVille[\"SUPERFICIE\"].to_numpy()\n",
    "    prixM2 = []\n",
    "    for j in range(len(surface)) :\n",
    "        prixM2.append(prix[j]/surface[j])\n",
    "    prixM2 = array(prixM2)\n",
    "    listePrixMoySurfaceVille.append(round(prixM2.mean(), 0))\n",
    "\n",
    "listePrixMoySurfaceVille = array(listePrixMoySurfaceVille)\n",
    "#print(ville)\n",
    "#print()\n",
    "#print(villes)\n",
    "#print()\n",
    "#print(totBienVille)\n",
    "print(\"stats pour prix moyen par ville :\")\n",
    "print()\n",
    "print(listePrixMoySurfaceVille)\n",
    "print(villes)\n",
    "print()\n",
    "\n",
    "plt.bar(villes, listePrixMoySurfaceVille)\n",
    "plt.show()\n"
   ]
  },
  {
   "cell_type": "code",
   "execution_count": null,
   "id": "d444517f",
   "metadata": {},
   "outputs": [],
   "source": []
  },
  {
   "cell_type": "code",
   "execution_count": null,
   "id": "caad8717",
   "metadata": {},
   "outputs": [],
   "source": []
  }
 ],
 "metadata": {
  "kernelspec": {
   "display_name": "Python 3 (ipykernel)",
   "language": "python",
   "name": "python3"
  },
  "language_info": {
   "codemirror_mode": {
    "name": "ipython",
    "version": 3
   },
   "file_extension": ".py",
   "mimetype": "text/x-python",
   "name": "python",
   "nbconvert_exporter": "python",
   "pygments_lexer": "ipython3",
   "version": "3.9.12"
  }
 },
 "nbformat": 4,
 "nbformat_minor": 5
}
